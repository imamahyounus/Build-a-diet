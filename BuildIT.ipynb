{
 "cells": [
  {
   "cell_type": "code",
   "execution_count": 1,
   "metadata": {},
   "outputs": [],
   "source": [
    "api= \"\"\n",
    "myid= \"\""
   ]
  },
  {
   "cell_type": "code",
   "execution_count": 2,
   "metadata": {},
   "outputs": [],
   "source": [
    "import numpy as np\n",
    "import pandas as pd\n",
    "from datetime import datetime\n",
    "import matplotlib.pyplot as plt\n",
    "from matplotlib import style\n",
    "import time\n",
    "import json\n",
    "import requests\n",
    "from nutritionix import Nutritionix\n",
    "nix = Nutritionix(app_id= myid, api_key=api)\n",
    "pd.options.display.float_format = '{:,.1f}'.format"
   ]
  },
  {
   "cell_type": "code",
   "execution_count": 3,
   "metadata": {},
   "outputs": [
    {
     "name": "stdout",
     "output_type": "stream",
     "text": [
      "Hi there! What is your name? Alex\n",
      "Hi Alex! I am going to ask you a couple questions\n",
      "How old are you? 28\n",
      "What do you weigh in pounds? 200\n",
      "What are you considering eating today?: Chicken Sandwich\n",
      "Is there anything else you want?, or say no: Apple\n",
      "Is there anything else you want?, or say no: Orange\n",
      "Is there anything else you want?, or say no: no\n"
     ]
    }
   ],
   "source": [
    "# Start with an empty list.\n",
    "u_inputs = []\n",
    "user = []\n",
    "# Set u_input to something other than 'nothing'.\n",
    "user1= input(\"Hi there! What is your name? \")\n",
    "user.append(user1)\n",
    "print(f\"Hi {user1}! I am going to ask you a couple questions\")\n",
    "u_age= input(\"How old are you? \")\n",
    "u_weight= int(input(\"What do you weigh in pounds? \"))\n",
    "u_input = input(\"What are you considering eating today?: \")\n",
    "u_inputs.append(u_input)\n",
    "# Start a loop that will run until the user enters 'nothing'.\n",
    "while u_input != \"no\":\n",
    "    # Ask the user for a new meal.\n",
    "    u_input= input(\"Is there anything else you want?, or say no: \")\n",
    "\n",
    "    # Add the new meal to our list.\n",
    "    if u_input != 'no':\n",
    "        u_inputs.append(u_input)"
   ]
  },
  {
   "cell_type": "code",
   "execution_count": 4,
   "metadata": {},
   "outputs": [],
   "source": [
    "#u_inputs printed out\n",
    "uu_inputs= '& '.join(u_inputs)"
   ]
  },
  {
   "cell_type": "code",
   "execution_count": 5,
   "metadata": {},
   "outputs": [],
   "source": [
    "#Build Nutrition Value Data Frame table\n",
    "nutri_pd= pd.DataFrame()\n",
    "nutri_pd[\"Item Name\"] = u_inputs\n",
    "nutri_pd[\"Serving Size\"] = \"\"\n",
    "nutri_pd[\"Calories\"] = \"\"\n",
    "nutri_pd[\"Total Fat\"] = \"\"\n",
    "nutri_pd[\"Cholesterol\"] = \"\"\n",
    "nutri_pd[\"Sodium\"] = \"\"\n",
    "nutri_pd[\"Total Carbohydrate\"] = \"\"\n",
    "nutri_pd[\"Fiber\"] = \"\"\n",
    "nutri_pd[\"Sugar\"] = \"\"\n",
    "nutri_pd[\"Protein\"] = \"\""
   ]
  },
  {
   "cell_type": "code",
   "execution_count": 6,
   "metadata": {},
   "outputs": [],
   "source": [
    "index= 0 #index for nutri pd\n",
    "nutri=[]\n",
    "for index, row in nutri_pd.iterrows():\n",
    "    food= row['Item Name']\n",
    "    search= nix.search(food).json()\n",
    "    #results = nix.item(id= search['hits'][0]['_id']).json()\n",
    "    \n",
    "    try:\n",
    "        results = nix.item(id= search['hits'][0]['_id']).json()\n",
    "        #print(results)\n",
    "        nutri_pd.loc[index,\"Calories\"]= results['nf_calories']\n",
    "        nutri_pd.loc[index,\"Serving Size\"]= results['nf_serving_size_qty']\n",
    "        cal_fat=results['nf_calories_from_fat']\n",
    "        nutri_pd.loc[index,\"Total Fat\"]= results['nf_total_fat']\n",
    "        sat_fat= results['nf_saturated_fat']\n",
    "        trans_fat= results['nf_trans_fatty_acid']\n",
    "        poly_fat= results['nf_polyunsaturated_fat']\n",
    "        mono_fat= results['nf_monounsaturated_fat']\n",
    "        nutri_pd.loc[index,\"Cholesterol\"]= results['nf_cholesterol']\n",
    "        nutri_pd.loc[index,\"Sodium\"]= results['nf_sodium']\n",
    "        nutri_pd.loc[index,\"Total Carbohydrate\"]= results['nf_total_carbohydrate']\n",
    "        nutri_pd.loc[index,\"Fiber\"]= results['nf_dietary_fiber']\n",
    "        nutri_pd.loc[index,\"Sugar\"]= results['nf_sugars']\n",
    "        nutri_pd.loc[index,\"Protein\"]= results['nf_protein']\n",
    "        vit_a= results['nf_vitamin_a_dv']\n",
    "        vit_c= results['nf_vitamin_c_dv']\n",
    "        calc= results['nf_calcium_dv']\n",
    "        iron= results['nf_iron_dv']\n",
    "        s_size=  results['nf_serving_size_qty']\n",
    "    except (KeyError, IndexError):\n",
    "        print(\"Meal not found. Skipping...\")"
   ]
  },
  {
   "cell_type": "code",
   "execution_count": 7,
   "metadata": {},
   "outputs": [],
   "source": [
    "#nutri_pd"
   ]
  },
  {
   "cell_type": "code",
   "execution_count": 8,
   "metadata": {},
   "outputs": [],
   "source": [
    "#Get daily recommended caloric intake\n",
    "daily_cal= u_weight*12\n",
    "daily_pro= u_weight*0.36\n",
    "daily45_carb= daily_cal*0.45*0.25\n",
    "daily65_carb= daily_cal*0.65*0.25\n",
    "daily20_fat= daily_cal*0.20*(1/9)\n",
    "daily35_fat= daily_cal*0.35*(1/9)\n",
    "daily_na= \"1.5-2.3\"\n",
    "rec_pd= pd.DataFrame()\n",
    "rec_pd[\"Name\"]= user\n",
    "rec_pd[\"Age\"]= u_age\n",
    "rec_pd[\"Weight\"]= u_weight\n",
    "rec_pd[\"Daily Calories(cal)\"]= daily_cal\n",
    "rec_pd[\"Daily Protein(g)\"]= daily_pro\n",
    "rec_pd[\"Min Daily Carbs(g)\"]= daily45_carb\n",
    "rec_pd[\"Max Daily Carbs(g)\"]= daily65_carb\n",
    "rec_pd[\"Min Daily Fat(g)\"]= daily20_fat\n",
    "rec_pd[\"Max Daily Fat(g)\"]= daily35_fat\n",
    "rec_pd[\"Daily Sodium(g)\"]= daily_na\n",
    "#rec_pd"
   ]
  },
  {
   "cell_type": "code",
   "execution_count": 9,
   "metadata": {},
   "outputs": [],
   "source": [
    "#Make dataframe for exercises\n",
    "exercise_pd= pd.DataFrame()\n",
    "exercise_pd[\"Item Name\"]= nutri_pd[\"Item Name\"]\n",
    "exercise_pd[\"Calories\"]= nutri_pd[\"Calories\"]\n",
    "exercise_pd[\"Walking(min)\"]= \"\"\n",
    "exercise_pd[\"Running(min)\"]= \"\"\n",
    "exercise_pd[\"Cycling(min)\"]= \"\"\n",
    "#exercise_pd"
   ]
  },
  {
   "cell_type": "code",
   "execution_count": 10,
   "metadata": {},
   "outputs": [],
   "source": [
    "#Use API to get recommended exercises\n",
    "headers = {'x-app-key': api,'x-app-id': myid, 'x-remote-user-id':\"0\"}\n",
    "for index, row in exercise_pd.iterrows():\n",
    "    #get calories for each meal\n",
    "    meal_cal= row[\"Calories\"]\n",
    "    #make a list of types of exercise\n",
    "    type_ex= [\"Walking\",\"Running\",\"Cycling\"]\n",
    "    for ex in type_ex:\n",
    "        payload={\"query\":f\"{ex} {meal_cal} calories\"}\n",
    "        ex_req = requests.post(\"https://trackapi.nutritionix.com/v2/natural/exercise\", headers= headers, data=payload)\n",
    "        ex_req_json= ex_req.json()\n",
    "        exercise_pd.loc[index,f\"{ex}(min)\"]= ex_req_json[\"exercises\"][0][\"duration_min\"]\n",
    "        #print(payload)\n",
    "        #print(ex_req_json)\n",
    "    "
   ]
  },
  {
   "cell_type": "code",
   "execution_count": 11,
   "metadata": {},
   "outputs": [],
   "source": [
    "#ex_req_json[\"exercises\"][0][\"duration_min\"]\n",
    "#exercise_pd"
   ]
  },
  {
   "cell_type": "code",
   "execution_count": 12,
   "metadata": {},
   "outputs": [],
   "source": [
    "#Total calories of what user will be eating\n",
    "total_cal= nutri_pd[\"Calories\"].sum(axis=0)\n",
    "#total_cal"
   ]
  },
  {
   "cell_type": "code",
   "execution_count": 13,
   "metadata": {},
   "outputs": [],
   "source": [
    "#Remaining calories\n",
    "rem_cal= rec_pd[\"Daily Calories(cal)\"][0]- total_cal\n",
    "#rem_cal\n",
    "#exercise_pd"
   ]
  },
  {
   "cell_type": "code",
   "execution_count": 14,
   "metadata": {},
   "outputs": [],
   "source": [
    "#Total exercise based on calories to be eaten\n",
    "total_ex_walk= exercise_pd[\"Walking(min)\"].sum(axis=0)\n",
    "total_ex_run= exercise_pd[\"Running(min)\"].sum(axis=0)\n",
    "total_ex_cyc= exercise_pd[\"Cycling(min)\"].sum(axis=0)"
   ]
  },
  {
   "cell_type": "code",
   "execution_count": 15,
   "metadata": {},
   "outputs": [
    {
     "name": "stdout",
     "output_type": "stream",
     "text": [
      "--------------------------------\n",
      "Alex's Snapshot!!\n",
      "--------------------------------\n",
      "Hi Alex, let's consider your user profile\n",
      "\n",
      "Your recommended total daily calorie intake is 2400 calories\n",
      "\n",
      "If you end up eating Chicken Sandwich& Apple& Orange; you will have to keep your calorie intake under 1746.4 calories\n",
      "\n",
      "If you end up eating Chicken Sandwich& Apple& Orange; you would have to run for 57.169999999999995 mins OR walk for 160.07 mins OR cycle for 56.02 min\n",
      "\n",
      "Please refer to the tables below for a more detailed overview of our recommendations.\n",
      "\n",
      "--------------------------------\n",
      "General recommendations\n",
      "--------------------------------\n",
      "Consider reducing your total daily calories by 500 in order to lose a pound a week.\n",
      "You would need to reduce your total daily calories by 1000 in order to lose two pounds a week but this is highly unadvisable.\n"
     ]
    }
   ],
   "source": [
    "print(\"--------------------------------\")\n",
    "print(f\"{user1}'s Snapshot!!\")\n",
    "print(\"--------------------------------\")\n",
    "print(f\"Hi {user1}, let's consider your user profile\")\n",
    "print(\"\")\n",
    "print(f\"Your recommended total daily calorie intake is {rec_pd['Daily Calories(cal)'][0]} calories\")\n",
    "print(\"\")\n",
    "print(f\"If you end up eating {uu_inputs}; you will have to keep your calorie intake under {rem_cal} calories\")\n",
    "print(\"\")\n",
    "print(f\"If you end up eating {uu_inputs}; you would have to run for {total_ex_run} mins OR walk for {total_ex_walk} mins OR cycle for {total_ex_cyc} min\")\n",
    "print(\"\")\n",
    "print(\"Please refer to the tables below for a more detailed overview of our recommendations.\")\n",
    "print(\"\")\n",
    "print(\"--------------------------------\")\n",
    "print(f\"General recommendations\")\n",
    "print(\"--------------------------------\")\n",
    "print(\"Consider reducing your total daily calories by 500 in order to lose a pound a week.\")\n",
    "print(\"You would need to reduce your total daily calories by 1000 in order to lose two pounds a week but this is highly unadvisable.\")"
   ]
  },
  {
   "cell_type": "code",
   "execution_count": 16,
   "metadata": {},
   "outputs": [
    {
     "name": "stdout",
     "output_type": "stream",
     "text": [
      "Hi Alex, let's consider your user profile:\n"
     ]
    },
    {
     "data": {
      "text/html": [
       "<div>\n",
       "<style scoped>\n",
       "    .dataframe tbody tr th:only-of-type {\n",
       "        vertical-align: middle;\n",
       "    }\n",
       "\n",
       "    .dataframe tbody tr th {\n",
       "        vertical-align: top;\n",
       "    }\n",
       "\n",
       "    .dataframe thead th {\n",
       "        text-align: right;\n",
       "    }\n",
       "</style>\n",
       "<table border=\"1\" class=\"dataframe\">\n",
       "  <thead>\n",
       "    <tr style=\"text-align: right;\">\n",
       "      <th></th>\n",
       "      <th>Age</th>\n",
       "      <th>Weight</th>\n",
       "      <th>Daily Calories(cal)</th>\n",
       "      <th>Daily Protein(g)</th>\n",
       "      <th>Min Daily Carbs(g)</th>\n",
       "      <th>Max Daily Carbs(g)</th>\n",
       "      <th>Min Daily Fat(g)</th>\n",
       "      <th>Max Daily Fat(g)</th>\n",
       "      <th>Daily Sodium(g)</th>\n",
       "    </tr>\n",
       "    <tr>\n",
       "      <th>Name</th>\n",
       "      <th></th>\n",
       "      <th></th>\n",
       "      <th></th>\n",
       "      <th></th>\n",
       "      <th></th>\n",
       "      <th></th>\n",
       "      <th></th>\n",
       "      <th></th>\n",
       "      <th></th>\n",
       "    </tr>\n",
       "  </thead>\n",
       "  <tbody>\n",
       "    <tr>\n",
       "      <th>Alex</th>\n",
       "      <td>28</td>\n",
       "      <td>200</td>\n",
       "      <td>2400</td>\n",
       "      <td>72.0</td>\n",
       "      <td>270.0</td>\n",
       "      <td>390.0</td>\n",
       "      <td>53.3</td>\n",
       "      <td>93.3</td>\n",
       "      <td>1.5-2.3</td>\n",
       "    </tr>\n",
       "  </tbody>\n",
       "</table>\n",
       "</div>"
      ],
      "text/plain": [
       "     Age  Weight  Daily Calories(cal)  Daily Protein(g)  Min Daily Carbs(g)  \\\n",
       "Name                                                                          \n",
       "Alex  28     200                 2400              72.0               270.0   \n",
       "\n",
       "      Max Daily Carbs(g)  Min Daily Fat(g)  Max Daily Fat(g) Daily Sodium(g)  \n",
       "Name                                                                          \n",
       "Alex               390.0              53.3              93.3         1.5-2.3  "
      ]
     },
     "execution_count": 16,
     "metadata": {},
     "output_type": "execute_result"
    }
   ],
   "source": [
    "print(f\"Hi {user1}, let's consider your user profile:\")\n",
    "rec_pd.set_index(\"Name\")"
   ]
  },
  {
   "cell_type": "code",
   "execution_count": 17,
   "metadata": {},
   "outputs": [
    {
     "name": "stdout",
     "output_type": "stream",
     "text": [
      " So Alex, lets run through all the things you want to eat:\n"
     ]
    },
    {
     "data": {
      "text/html": [
       "<div>\n",
       "<style scoped>\n",
       "    .dataframe tbody tr th:only-of-type {\n",
       "        vertical-align: middle;\n",
       "    }\n",
       "\n",
       "    .dataframe tbody tr th {\n",
       "        vertical-align: top;\n",
       "    }\n",
       "\n",
       "    .dataframe thead th {\n",
       "        text-align: right;\n",
       "    }\n",
       "</style>\n",
       "<table border=\"1\" class=\"dataframe\">\n",
       "  <thead>\n",
       "    <tr style=\"text-align: right;\">\n",
       "      <th></th>\n",
       "      <th>Serving Size</th>\n",
       "      <th>Calories</th>\n",
       "      <th>Total Fat</th>\n",
       "      <th>Cholesterol</th>\n",
       "      <th>Sodium</th>\n",
       "      <th>Total Carbohydrate</th>\n",
       "      <th>Fiber</th>\n",
       "      <th>Sugar</th>\n",
       "      <th>Protein</th>\n",
       "    </tr>\n",
       "    <tr>\n",
       "      <th>Item Name</th>\n",
       "      <th></th>\n",
       "      <th></th>\n",
       "      <th></th>\n",
       "      <th></th>\n",
       "      <th></th>\n",
       "      <th></th>\n",
       "      <th></th>\n",
       "      <th></th>\n",
       "      <th></th>\n",
       "    </tr>\n",
       "  </thead>\n",
       "  <tbody>\n",
       "    <tr>\n",
       "      <th>Chicken Sandwich</th>\n",
       "      <td>1</td>\n",
       "      <td>520</td>\n",
       "      <td>16</td>\n",
       "      <td>105</td>\n",
       "      <td>1350</td>\n",
       "      <td>57</td>\n",
       "      <td>2</td>\n",
       "      <td>10</td>\n",
       "      <td>35</td>\n",
       "    </tr>\n",
       "    <tr>\n",
       "      <th>Apple</th>\n",
       "      <td>1</td>\n",
       "      <td>65</td>\n",
       "      <td>0.2</td>\n",
       "      <td>0</td>\n",
       "      <td>1.2</td>\n",
       "      <td>17.3</td>\n",
       "      <td>3</td>\n",
       "      <td>13.0</td>\n",
       "      <td>0.3</td>\n",
       "    </tr>\n",
       "    <tr>\n",
       "      <th>Orange</th>\n",
       "      <td>1</td>\n",
       "      <td>68.6</td>\n",
       "      <td>0.2</td>\n",
       "      <td>0</td>\n",
       "      <td>1.4</td>\n",
       "      <td>17.6</td>\n",
       "      <td>3.1</td>\n",
       "      <td>11.9</td>\n",
       "      <td>1.3</td>\n",
       "    </tr>\n",
       "  </tbody>\n",
       "</table>\n",
       "</div>"
      ],
      "text/plain": [
       "                 Serving Size Calories Total Fat Cholesterol Sodium  \\\n",
       "Item Name                                                             \n",
       "Chicken Sandwich            1      520        16         105   1350   \n",
       "Apple                       1       65       0.2           0    1.2   \n",
       "Orange                      1     68.6       0.2           0    1.4   \n",
       "\n",
       "                 Total Carbohydrate Fiber Sugar Protein  \n",
       "Item Name                                                \n",
       "Chicken Sandwich                 57     2    10      35  \n",
       "Apple                          17.3     3  13.0     0.3  \n",
       "Orange                         17.6   3.1  11.9     1.3  "
      ]
     },
     "execution_count": 17,
     "metadata": {},
     "output_type": "execute_result"
    }
   ],
   "source": [
    "print(f\" So {user1}, lets run through all the things you want to eat:\")\n",
    "nutri_pd.set_index(\"Item Name\")"
   ]
  },
  {
   "cell_type": "code",
   "execution_count": 19,
   "metadata": {},
   "outputs": [
    {
     "name": "stdout",
     "output_type": "stream",
     "text": [
      "To lose all those calories, consider exercising:\n"
     ]
    },
    {
     "data": {
      "text/html": [
       "<div>\n",
       "<style scoped>\n",
       "    .dataframe tbody tr th:only-of-type {\n",
       "        vertical-align: middle;\n",
       "    }\n",
       "\n",
       "    .dataframe tbody tr th {\n",
       "        vertical-align: top;\n",
       "    }\n",
       "\n",
       "    .dataframe thead th {\n",
       "        text-align: right;\n",
       "    }\n",
       "</style>\n",
       "<table border=\"1\" class=\"dataframe\">\n",
       "  <thead>\n",
       "    <tr style=\"text-align: right;\">\n",
       "      <th></th>\n",
       "      <th>Calories</th>\n",
       "      <th>Walking(min)</th>\n",
       "      <th>Running(min)</th>\n",
       "      <th>Cycling(min)</th>\n",
       "    </tr>\n",
       "    <tr>\n",
       "      <th>Item Name</th>\n",
       "      <th></th>\n",
       "      <th></th>\n",
       "      <th></th>\n",
       "      <th></th>\n",
       "    </tr>\n",
       "  </thead>\n",
       "  <tbody>\n",
       "    <tr>\n",
       "      <th>Chicken Sandwich</th>\n",
       "      <td>520</td>\n",
       "      <td>127.3</td>\n",
       "      <td>45.5</td>\n",
       "      <td>44.6</td>\n",
       "    </tr>\n",
       "    <tr>\n",
       "      <th>Apple</th>\n",
       "      <td>65</td>\n",
       "      <td>15.9</td>\n",
       "      <td>5.7</td>\n",
       "      <td>5.6</td>\n",
       "    </tr>\n",
       "    <tr>\n",
       "      <th>Orange</th>\n",
       "      <td>68.6</td>\n",
       "      <td>16.8</td>\n",
       "      <td>6</td>\n",
       "      <td>5.9</td>\n",
       "    </tr>\n",
       "  </tbody>\n",
       "</table>\n",
       "</div>"
      ],
      "text/plain": [
       "                 Calories Walking(min) Running(min) Cycling(min)\n",
       "Item Name                                                       \n",
       "Chicken Sandwich      520        127.3         45.5         44.6\n",
       "Apple                  65         15.9          5.7          5.6\n",
       "Orange               68.6         16.8            6          5.9"
      ]
     },
     "execution_count": 19,
     "metadata": {},
     "output_type": "execute_result"
    }
   ],
   "source": [
    "print(f\"To lose all those calories, consider exercising:\")\n",
    "exercise_pd.set_index(\"Item Name\")"
   ]
  },
  {
   "cell_type": "code",
   "execution_count": null,
   "metadata": {},
   "outputs": [],
   "source": []
  }
 ],
 "metadata": {
  "kernelspec": {
   "display_name": "Python 3",
   "language": "python",
   "name": "python3"
  },
  "language_info": {
   "codemirror_mode": {
    "name": "ipython",
    "version": 3
   },
   "file_extension": ".py",
   "mimetype": "text/x-python",
   "name": "python",
   "nbconvert_exporter": "python",
   "pygments_lexer": "ipython3",
   "version": "3.6.5"
  }
 },
 "nbformat": 4,
 "nbformat_minor": 2
}
